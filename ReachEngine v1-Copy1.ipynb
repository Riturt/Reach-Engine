{
 "cells": [
  {
   "cell_type": "code",
   "execution_count": 1,
   "metadata": {},
   "outputs": [],
   "source": [
    "import tweepy\n",
    "import json"
   ]
  },
  {
   "cell_type": "code",
   "execution_count": 2,
   "metadata": {},
   "outputs": [],
   "source": [
    "auth = tweepy.OAuthHandler(\"--\", \"--\")"
   ]
  },
  {
   "cell_type": "code",
   "execution_count": 3,
   "metadata": {},
   "outputs": [],
   "source": [
    "auth.set_access_token(\"--\", \"--\")"
   ]
  },
  {
   "cell_type": "code",
   "execution_count": 164,
   "metadata": {},
   "outputs": [],
   "source": [
    "api = tweepy.API(auth, wait_on_rate_limit=True, parser=tweepy.parsers.JSONParser())"
   ]
  },
  {
   "cell_type": "code",
   "execution_count": 169,
   "metadata": {},
   "outputs": [
    {
     "name": "stdout",
     "output_type": "stream",
     "text": [
      "#dharwad\n"
     ]
    }
   ],
   "source": [
    "query = input()\n",
    "results = api.search(q=query, count=25, since=\"2020-10-01\", tweet_mode='extended')"
   ]
  },
  {
   "cell_type": "code",
   "execution_count": 103,
   "metadata": {},
   "outputs": [],
   "source": [
    "# results = tweepy.Cursor(api.search,q=\"#digitalIndia\",count=10, lang=\"en\", since=\"2020-10-01\").items(100)"
   ]
  },
  {
   "cell_type": "code",
   "execution_count": 170,
   "metadata": {},
   "outputs": [],
   "source": [
    "urlList = []\n",
    "data = {}\n",
    "for tweet in results['statuses']:\n",
    "    screenName = tweet['user']['screen_name']\n",
    "    tweetId = str(tweet['id'])\n",
    "    url = \"https://twitter.com/\"+ screenName +\"/status/\" + tweetId\n",
    "    urlList.append(url)\n",
    "    hashtagList = []\n",
    "    if(tweet['retweeted']):\n",
    "        fullText = tweet['retweeted_status']['full_text']\n",
    "    else:\n",
    "        fullText = tweet['full_text']\n",
    "    for word in fullText.split():\n",
    "        if (word[0] == '#'):\n",
    "            hashtagList.append(word)\n",
    "    if not hashtagList:\n",
    "        hashtagList = [query]\n",
    "    temp = {url:hashtagList}\n",
    "    data.update(temp)\n"
   ]
  },
  {
   "cell_type": "code",
   "execution_count": 171,
   "metadata": {},
   "outputs": [
    {
     "data": {
      "text/plain": [
       "{'https://twitter.com/Lolita_TNIE/status/1313569102506545152': ['#TNIEupdatesOnCovid19',\n",
       "  '#Hubballi',\n",
       "  '#Dharwad',\n",
       "  '#COVID19',\n",
       "  '#COVID19'],\n",
       " 'https://twitter.com/Rangaraodesai/status/1313522146577088512': ['#ಉತ್ತರಕರ್ನಾಟಕ',\n",
       "  '#UttaraKarnataka',\n",
       "  '#Raichur',\n",
       "  '#Kalaburgi',\n",
       "  '#Bidar',\n",
       "  '#Dharwad',\n",
       "  '#Bellary',\n",
       "  '#Bijapur',\n",
       "  '#Koppal'],\n",
       " 'https://twitter.com/HubliCityeGroup/status/1313503867909238784': ['#TNIEupdatesOnCovid19',\n",
       "  '#Hubballi',\n",
       "  '#Dharwad',\n",
       "  '#COVID19',\n",
       "  '#COVID19'],\n",
       " 'https://twitter.com/Hubballi_Infra/status/1313503191745531904': ['#TNIEupdatesOnCovid19',\n",
       "  '#Hubballi',\n",
       "  '#Dharwad',\n",
       "  '#COVID19',\n",
       "  '#COVID19'],\n",
       " 'https://twitter.com/XpressBengaluru/status/1313500657932922884': ['#TNIEupdatesOnCovid19',\n",
       "  '#Hubballi',\n",
       "  '#Dharwad',\n",
       "  '#COVID19',\n",
       "  '#COVID19'],\n",
       " 'https://twitter.com/PramodKV_TNIE/status/1313498930433404933': ['#TNIEupdatesOnCovid19',\n",
       "  '#Hubballi',\n",
       "  '#Dharwad',\n",
       "  '#COVID19',\n",
       "  '#COVID19'],\n",
       " 'https://twitter.com/Namma_HD/status/1313498713143357443': ['#TNIEupdatesOnCovid19',\n",
       "  '#Hubballi',\n",
       "  '#Dharwad',\n",
       "  '#COVID19',\n",
       "  '#COVID19'],\n",
       " 'https://twitter.com/Amitsen_TNIE/status/1313498549276082179': ['#TNIEupdatesOnCovid19',\n",
       "  '#Hubballi',\n",
       "  '#Dharwad',\n",
       "  '#COVID19',\n",
       "  '#COVID19'],\n",
       " 'https://twitter.com/hublimandi/status/1313498530712096771': ['#TNIEupdatesOnCovid19',\n",
       "  '#Hubballi',\n",
       "  '#Dharwad',\n",
       "  '#COVID19',\n",
       "  '#COVID19'],\n",
       " 'https://twitter.com/Arunkumar_TNIE/status/1313498467730419715': ['#TNIEupdatesOnCovid19',\n",
       "  '#Hubballi',\n",
       "  '#Dharwad',\n",
       "  '#COVID19',\n",
       "  '#COVID19'],\n",
       " 'https://twitter.com/OneindiaKannada/status/1313488587925618688': ['#Dharwad',\n",
       "  '#BhaskarRao',\n",
       "  '#DrugCase',\n",
       "  '#Karnataka'],\n",
       " 'https://twitter.com/Sheshag96530122/status/1313453969184714753': ['#dharwad'],\n",
       " 'https://twitter.com/harshith2727/status/1313453690242514944': ['#dharwad'],\n",
       " 'https://twitter.com/svsrinivas17/status/1313452706858627072': ['#Dharwad,'],\n",
       " 'https://twitter.com/swathimalagi/status/1313450325500596226': ['#IStandWithDKShivakumar',\n",
       "  '#Hubli',\n",
       "  '#Dharwad'],\n",
       " 'https://twitter.com/Onaesimus/status/1313448003189923846': ['#Hubli',\n",
       "  '#Dharwad',\n",
       "  '#Hatras'],\n",
       " 'https://twitter.com/hublimandi/status/1313436471425003521': ['#dharwad'],\n",
       " 'https://twitter.com/JagadishShettar/status/1313432492133629952': ['#Hubli',\n",
       "  '#Dharwad'],\n",
       " 'https://twitter.com/Lolita_TNIE/status/1313414417132838914': ['#tniecovidupdate',\n",
       "  '#Hubballi',\n",
       "  '#COVID19',\n",
       "  '#Dharwad?'],\n",
       " 'https://twitter.com/hubballi_meme/status/1313383220277256192': ['#tniecovidupdate',\n",
       "  '#Hubballi',\n",
       "  '#COVID19',\n",
       "  '#Dharwad?'],\n",
       " 'https://twitter.com/suvarnanewstv/status/1313362062483943424': ['#VinayKulkarni',\n",
       "  '#YogeshGowdaCase',\n",
       "  '#BJP',\n",
       "  '#Dharwad',\n",
       "  '#Hubballi',\n",
       "  '#CPYogeshwar'],\n",
       " 'https://twitter.com/Hubballi_Infra/status/1313352738592309250': ['#tniecovidupdate',\n",
       "  '#Hubballi',\n",
       "  '#COVID19',\n",
       "  '#Dharwad?'],\n",
       " 'https://twitter.com/raghukoppar/status/1313351466967461888': ['#tniecovidupdate',\n",
       "  '#Hubballi',\n",
       "  '#COVID19',\n",
       "  '#Dharwad?'],\n",
       " 'https://twitter.com/Vijaykarnataka/status/1313346725545824257': ['#Rain',\n",
       "  '#Hubli',\n",
       "  '#Dharwad'],\n",
       " 'https://twitter.com/Amitsen_TNIE/status/1313332010773962752': ['#tniecovidupdate',\n",
       "  '#Hubballi',\n",
       "  '#COVID19',\n",
       "  '#Dharwad?']}"
      ]
     },
     "execution_count": 171,
     "metadata": {},
     "output_type": "execute_result"
    }
   ],
   "source": [
    "data"
   ]
  },
  {
   "cell_type": "code",
   "execution_count": 172,
   "metadata": {},
   "outputs": [
    {
     "data": {
      "text/plain": [
       "dict_values([['#TNIEupdatesOnCovid19', '#Hubballi', '#Dharwad', '#COVID19', '#COVID19'], ['#ಉತ್ತರಕರ್ನಾಟಕ', '#UttaraKarnataka', '#Raichur', '#Kalaburgi', '#Bidar', '#Dharwad', '#Bellary', '#Bijapur', '#Koppal'], ['#TNIEupdatesOnCovid19', '#Hubballi', '#Dharwad', '#COVID19', '#COVID19'], ['#TNIEupdatesOnCovid19', '#Hubballi', '#Dharwad', '#COVID19', '#COVID19'], ['#TNIEupdatesOnCovid19', '#Hubballi', '#Dharwad', '#COVID19', '#COVID19'], ['#TNIEupdatesOnCovid19', '#Hubballi', '#Dharwad', '#COVID19', '#COVID19'], ['#TNIEupdatesOnCovid19', '#Hubballi', '#Dharwad', '#COVID19', '#COVID19'], ['#TNIEupdatesOnCovid19', '#Hubballi', '#Dharwad', '#COVID19', '#COVID19'], ['#TNIEupdatesOnCovid19', '#Hubballi', '#Dharwad', '#COVID19', '#COVID19'], ['#TNIEupdatesOnCovid19', '#Hubballi', '#Dharwad', '#COVID19', '#COVID19'], ['#Dharwad', '#BhaskarRao', '#DrugCase', '#Karnataka'], ['#dharwad'], ['#dharwad'], ['#Dharwad,'], ['#IStandWithDKShivakumar', '#Hubli', '#Dharwad'], ['#Hubli', '#Dharwad', '#Hatras'], ['#dharwad'], ['#Hubli', '#Dharwad'], ['#tniecovidupdate', '#Hubballi', '#COVID19', '#Dharwad?'], ['#tniecovidupdate', '#Hubballi', '#COVID19', '#Dharwad?'], ['#VinayKulkarni', '#YogeshGowdaCase', '#BJP', '#Dharwad', '#Hubballi', '#CPYogeshwar'], ['#tniecovidupdate', '#Hubballi', '#COVID19', '#Dharwad?'], ['#tniecovidupdate', '#Hubballi', '#COVID19', '#Dharwad?'], ['#Rain', '#Hubli', '#Dharwad'], ['#tniecovidupdate', '#Hubballi', '#COVID19', '#Dharwad?']])"
      ]
     },
     "execution_count": 172,
     "metadata": {},
     "output_type": "execute_result"
    }
   ],
   "source": [
    "data.values()"
   ]
  },
  {
   "cell_type": "code",
   "execution_count": 173,
   "metadata": {},
   "outputs": [
    {
     "data": {
      "text/plain": [
       "dict_keys(['https://twitter.com/Lolita_TNIE/status/1313569102506545152', 'https://twitter.com/Rangaraodesai/status/1313522146577088512', 'https://twitter.com/HubliCityeGroup/status/1313503867909238784', 'https://twitter.com/Hubballi_Infra/status/1313503191745531904', 'https://twitter.com/XpressBengaluru/status/1313500657932922884', 'https://twitter.com/PramodKV_TNIE/status/1313498930433404933', 'https://twitter.com/Namma_HD/status/1313498713143357443', 'https://twitter.com/Amitsen_TNIE/status/1313498549276082179', 'https://twitter.com/hublimandi/status/1313498530712096771', 'https://twitter.com/Arunkumar_TNIE/status/1313498467730419715', 'https://twitter.com/OneindiaKannada/status/1313488587925618688', 'https://twitter.com/Sheshag96530122/status/1313453969184714753', 'https://twitter.com/harshith2727/status/1313453690242514944', 'https://twitter.com/svsrinivas17/status/1313452706858627072', 'https://twitter.com/swathimalagi/status/1313450325500596226', 'https://twitter.com/Onaesimus/status/1313448003189923846', 'https://twitter.com/hublimandi/status/1313436471425003521', 'https://twitter.com/JagadishShettar/status/1313432492133629952', 'https://twitter.com/Lolita_TNIE/status/1313414417132838914', 'https://twitter.com/hubballi_meme/status/1313383220277256192', 'https://twitter.com/suvarnanewstv/status/1313362062483943424', 'https://twitter.com/Hubballi_Infra/status/1313352738592309250', 'https://twitter.com/raghukoppar/status/1313351466967461888', 'https://twitter.com/Vijaykarnataka/status/1313346725545824257', 'https://twitter.com/Amitsen_TNIE/status/1313332010773962752'])"
      ]
     },
     "execution_count": 173,
     "metadata": {},
     "output_type": "execute_result"
    }
   ],
   "source": [
    "data.keys()"
   ]
  }
 ],
 "metadata": {
  "kernelspec": {
   "display_name": "Python 3",
   "language": "python",
   "name": "python3"
  },
  "language_info": {
   "codemirror_mode": {
    "name": "ipython",
    "version": 3
   },
   "file_extension": ".py",
   "mimetype": "text/x-python",
   "name": "python",
   "nbconvert_exporter": "python",
   "pygments_lexer": "ipython3",
   "version": "3.8.3"
  }
 },
 "nbformat": 4,
 "nbformat_minor": 4
}
